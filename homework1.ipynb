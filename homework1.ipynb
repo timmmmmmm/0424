{
 "cells": [
  {
   "cell_type": "code",
   "execution_count": 17,
   "metadata": {},
   "outputs": [
    {
     "name": "stdout",
     "output_type": "stream",
     "text": [
      "請輸入成績：Ngfnhmhgm\n",
      "Whats wroung with you\n"
     ]
    }
   ],
   "source": [
    "\n",
    "try:\n",
    "    x = int(input ('請輸入成績：'))\n",
    "    if x >= 80:\n",
    "        print('Great!')\n",
    "    elif x>=60:\n",
    "        print('Good!')\n",
    "    elif x<= 60 and x>= 0:\n",
    "        print('Fail!')\n",
    "    else:\n",
    "        print('未知')\n",
    "except:\n",
    "    print('Whats wroung with you')\n"
   ]
  },
  {
   "cell_type": "code",
   "execution_count": null,
   "metadata": {},
   "outputs": [],
   "source": []
  },
  {
   "cell_type": "code",
   "execution_count": null,
   "metadata": {},
   "outputs": [],
   "source": []
  },
  {
   "cell_type": "code",
   "execution_count": null,
   "metadata": {},
   "outputs": [],
   "source": []
  }
 ],
 "metadata": {
  "kernelspec": {
   "display_name": "Python 3",
   "language": "python",
   "name": "python3"
  },
  "language_info": {
   "codemirror_mode": {
    "name": "ipython",
    "version": 3
   },
   "file_extension": ".py",
   "mimetype": "text/x-python",
   "name": "python",
   "nbconvert_exporter": "python",
   "pygments_lexer": "ipython3",
   "version": "3.7.1"
  }
 },
 "nbformat": 4,
 "nbformat_minor": 2
}
